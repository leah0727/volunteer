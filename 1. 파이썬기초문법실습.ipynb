{
  "nbformat": 4,
  "nbformat_minor": 0,
  "metadata": {
    "colab": {
      "provenance": []
    },
    "kernelspec": {
      "name": "python3",
      "display_name": "Python 3"
    },
    "language_info": {
      "name": "python"
    }
  },
  "cells": [
    {
      "cell_type": "markdown",
      "source": [
        "## 변수와 데이터 타입\n",
        "\n",
        "1. 숫자형 (실수형, 정수형)\n",
        "2. 문자형\n",
        "3. boolean형"
      ],
      "metadata": {
        "id": "oMlQWl-TMqQl"
      }
    },
    {
      "cell_type": "code",
      "execution_count": null,
      "metadata": {
        "id": "YAirXg12LUJA"
      },
      "outputs": [],
      "source": [
        "age = 20 # 자신의 나이를 적어보세요.\n",
        "height = 199.9 # 자신의 키를 적어보세요.\n",
        "name = \"홍길동\" #자신의 이름을 적어보세요"
      ]
    },
    {
      "cell_type": "code",
      "source": [
        "# 타입\n",
        "print(type(age))\n",
        "print(type(height))\n",
        "print(type(name))"
      ],
      "metadata": {
        "colab": {
          "base_uri": "https://localhost:8080/"
        },
        "id": "0W9Dx4NLM-t6",
        "outputId": "0b698775-3719-44e6-e1dc-cc4da0361545"
      },
      "execution_count": null,
      "outputs": [
        {
          "output_type": "stream",
          "name": "stdout",
          "text": [
            "<class 'int'>\n",
            "<class 'float'>\n",
            "<class 'str'>\n"
          ]
        }
      ]
    },
    {
      "cell_type": "code",
      "source": [
        "print(\"저의 이름은\",name,\"이고, 키와 나이는 \",height,\"cm, \",age,\"살 입니다.\" )"
      ],
      "metadata": {
        "colab": {
          "base_uri": "https://localhost:8080/"
        },
        "id": "3vMYw7cnNOq0",
        "outputId": "9162382a-9edd-4616-ca3c-93761bacd4b8"
      },
      "execution_count": null,
      "outputs": [
        {
          "output_type": "stream",
          "name": "stdout",
          "text": [
            "저의 이름은 홍길동 이고, 키와 나이는  199.9 cm,  20 살 입니다.\n"
          ]
        }
      ]
    },
    {
      "cell_type": "markdown",
      "source": [
        "## 연산자와 계산\n",
        "\n",
        "1. 산술 연산자\n",
        "2. 비교 연산자\n",
        "3. 논리 연산자"
      ],
      "metadata": {
        "id": "M6z_K_FoNwj5"
      }
    },
    {
      "cell_type": "code",
      "source": [
        "# 산술연산자\n",
        "a = 10\n",
        "b = 3\n",
        "print(a+b) # 덧셈\n",
        "print(a-b) # 뺄셈\n",
        "print(a*b) # 곱셈\n",
        "print(a/b) # 나누기\n",
        "print(a//b) # 몫\n",
        "print(a%b) # 나머지\n",
        "print(a**b) # 거듭제곱"
      ],
      "metadata": {
        "colab": {
          "base_uri": "https://localhost:8080/"
        },
        "id": "Rp3D4qEYNEIa",
        "outputId": "32cf483a-1f5d-4de0-a148-1063f236e3bb"
      },
      "execution_count": null,
      "outputs": [
        {
          "output_type": "stream",
          "name": "stdout",
          "text": [
            "13\n",
            "7\n",
            "30\n",
            "3.3333333333333335\n",
            "3\n",
            "1\n",
            "1000\n"
          ]
        }
      ]
    },
    {
      "cell_type": "code",
      "source": [
        "# 비교 연산자 >, <, >=, <=. ==. !=\n",
        "a = 1\n",
        "b = 5\n",
        "print(a>b) # a가 b보다 큰가?\n",
        "print(a<b) # a가 b보다 작은가?\n",
        "print(a>=b) # a가 b 이상인가?\n",
        "print(a<=b) # a가 b 이하인가?\n",
        "print(a==b) # a와 b가 동일한가?\n",
        "print(a!=b) # a랑 b가 다른가?"
      ],
      "metadata": {
        "colab": {
          "base_uri": "https://localhost:8080/"
        },
        "id": "PpGtCGGGN_kv",
        "outputId": "b797d245-770c-4725-9679-d8b1e668659a"
      },
      "execution_count": null,
      "outputs": [
        {
          "output_type": "stream",
          "name": "stdout",
          "text": [
            "False\n",
            "True\n",
            "False\n",
            "True\n",
            "False\n",
            "True\n"
          ]
        }
      ]
    },
    {
      "cell_type": "code",
      "source": [
        "# 논리 연산자 and, or, not 등..\n",
        "a = True # boolean 타입\n",
        "b = False\n",
        "print(a and b) # and\n",
        "print(a or b) # or\n",
        "print(not a) # not"
      ],
      "metadata": {
        "colab": {
          "base_uri": "https://localhost:8080/"
        },
        "id": "WEcZrTXHOO9E",
        "outputId": "6768cf03-f53b-4b2e-9c85-d6d314e6faee"
      },
      "execution_count": null,
      "outputs": [
        {
          "output_type": "stream",
          "name": "stdout",
          "text": [
            "False\n",
            "True\n",
            "False\n"
          ]
        }
      ]
    },
    {
      "cell_type": "markdown",
      "source": [
        "## 조건문\n",
        "1. if문\n",
        "2. if - else문\n",
        "3. if - elif - else문"
      ],
      "metadata": {
        "id": "xJddQeaEPdiF"
      }
    },
    {
      "cell_type": "code",
      "source": [
        "# if문\n",
        "a = 10\n",
        "if a>5:\n",
        "    print(\"a는 5보다 크다\")"
      ],
      "metadata": {
        "colab": {
          "base_uri": "https://localhost:8080/"
        },
        "id": "JzVNEh1CPARL",
        "outputId": "30752050-0e74-4c32-9ca0-b6c503ae58ee"
      },
      "execution_count": null,
      "outputs": [
        {
          "output_type": "stream",
          "name": "stdout",
          "text": [
            "a는 5보다 크다\n"
          ]
        }
      ]
    },
    {
      "cell_type": "code",
      "source": [
        "# if - else문\n",
        "a = 10\n",
        "if a>5:\n",
        "    print(\"a는 5보다 크다\")\n",
        "else:\n",
        "    print(\"a는 5보다 작다\")"
      ],
      "metadata": {
        "colab": {
          "base_uri": "https://localhost:8080/"
        },
        "id": "dEtZoo4BPnvQ",
        "outputId": "5f7e8c48-41a6-4b6f-93c1-cfe857ee8946"
      },
      "execution_count": null,
      "outputs": [
        {
          "output_type": "stream",
          "name": "stdout",
          "text": [
            "a는 5보다 크다\n"
          ]
        }
      ]
    },
    {
      "cell_type": "code",
      "source": [
        "# if -elif - else문\n",
        "a = 10\n",
        "if a>5:\n",
        "    print(\"a는 5보다 크다\")\n",
        "elif a==5:\n",
        "    print(\"a는 5이다\")\n",
        "else:\n",
        "    print(\"a는 5보다 작다\")"
      ],
      "metadata": {
        "colab": {
          "base_uri": "https://localhost:8080/"
        },
        "id": "5ftpw_gqPptz",
        "outputId": "ba776002-2625-47f0-d0f7-e13558beee8b"
      },
      "execution_count": null,
      "outputs": [
        {
          "output_type": "stream",
          "name": "stdout",
          "text": [
            "a는 5보다 크다\n"
          ]
        }
      ]
    },
    {
      "cell_type": "markdown",
      "source": [
        "## list 자료형\n",
        "여러 개의 값을 하나의 변수에 저장할 수 있는 데이터 구조\n"
      ],
      "metadata": {
        "id": "Re0-PVopQKbm"
      }
    },
    {
      "cell_type": "code",
      "source": [
        "score = [100, 90, 95, 50, 100]\n",
        "print(score)\n",
        "print(type(score))"
      ],
      "metadata": {
        "colab": {
          "base_uri": "https://localhost:8080/"
        },
        "id": "4qkQu4knQJdg",
        "outputId": "7b6c709c-c8fe-4ae4-85cf-0faabb31055b"
      },
      "execution_count": null,
      "outputs": [
        {
          "output_type": "stream",
          "name": "stdout",
          "text": [
            "[100, 90, 95, 50, 100]\n",
            "<class 'list'>\n"
          ]
        }
      ]
    },
    {
      "cell_type": "markdown",
      "source": [
        "## 반복문\n",
        "1. for\n",
        "2. while\n",
        "+ break, continue"
      ],
      "metadata": {
        "id": "wQEbSgc3P1vX"
      }
    },
    {
      "cell_type": "code",
      "source": [
        "# for\n",
        "# list 자료형에서 저장해놓은 score를 이용해 나의 성적 출력해보기\n",
        "for i in score:\n",
        "    print(i)"
      ],
      "metadata": {
        "colab": {
          "base_uri": "https://localhost:8080/"
        },
        "id": "D7ctHKSxPsJ6",
        "outputId": "4cba3e19-e4b4-4a5e-f2dd-595370ffbf69"
      },
      "execution_count": null,
      "outputs": [
        {
          "output_type": "stream",
          "name": "stdout",
          "text": [
            "100\n",
            "90\n",
            "95\n",
            "50\n",
            "100\n"
          ]
        }
      ]
    },
    {
      "cell_type": "code",
      "source": [
        "# 내 성적의 평균도 구해볼 수 있어요 !\n",
        "\n",
        "sum = 0 # 내 점수의 합계\n",
        "for i in score:\n",
        "    sum += i\n",
        "# len(score): 몇 개의 과목인지 알 수 있음\n",
        "\n",
        "print(sum/len(score))"
      ],
      "metadata": {
        "colab": {
          "base_uri": "https://localhost:8080/"
        },
        "id": "WzTJrDNHWNk8",
        "outputId": "0809f252-6c04-45c3-e52e-19fe10c6a9f8"
      },
      "execution_count": null,
      "outputs": [
        {
          "output_type": "stream",
          "name": "stdout",
          "text": [
            "87.0\n"
          ]
        }
      ]
    },
    {
      "cell_type": "code",
      "source": [
        "i = 0\n",
        "while i<10:\n",
        "    print(i)\n",
        "    i+=1"
      ],
      "metadata": {
        "colab": {
          "base_uri": "https://localhost:8080/"
        },
        "id": "RgsiazyJWjpj",
        "outputId": "8b29e27e-430d-47c9-f66b-d66c9bfd28ab"
      },
      "execution_count": null,
      "outputs": [
        {
          "output_type": "stream",
          "name": "stdout",
          "text": [
            "0\n",
            "1\n",
            "2\n",
            "3\n",
            "4\n",
            "5\n",
            "6\n",
            "7\n",
            "8\n",
            "9\n"
          ]
        }
      ]
    },
    {
      "cell_type": "code",
      "source": [],
      "metadata": {
        "id": "YwBvlVdCXtp7"
      },
      "execution_count": null,
      "outputs": []
    }
  ]
}